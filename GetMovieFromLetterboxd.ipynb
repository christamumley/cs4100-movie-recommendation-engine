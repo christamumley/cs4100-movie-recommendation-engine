{
 "cells": [
  {
   "cell_type": "code",
   "execution_count": 38,
   "id": "1787fa51-fbcd-48e2-b9c1-6ef3ba84a4a4",
   "metadata": {},
   "outputs": [],
   "source": []
  },
  {
   "cell_type": "code",
   "execution_count": 39,
   "id": "b072a45f-995e-4d36-848e-d574a014290f",
   "metadata": {},
   "outputs": [
    {
     "data": {
      "text/plain": [
       "['We Live in Time',\n",
       " 'Irish Wish',\n",
       " 'Crossing',\n",
       " 'Madame Web',\n",
       " 'Dune: Part Two',\n",
       " 'My Wonderful Stranger',\n",
       " 'Love Lies Bleeding',\n",
       " 'Doctor Who: The Church on Ruby Road',\n",
       " 'Doctor Who: The Giggle',\n",
       " 'Doctor Who: Wild Blue Yonder',\n",
       " 'Wonka',\n",
       " 'Doctor Who: The Star Beast',\n",
       " 'Merchant Ivory',\n",
       " 'The Iron Claw',\n",
       " 'The Hunger Games: The Ballad of Songbirds & Snakes',\n",
       " 'Thanksgiving',\n",
       " \"Five Nights at Freddy's\",\n",
       " 'Chicken Run: Dawn of the Nugget',\n",
       " 'The Exorcist: Believer',\n",
       " 'Saw X',\n",
       " 'No One Will Save You',\n",
       " 'A Haunting in Venice',\n",
       " 'American Fiction',\n",
       " 'Hit Man',\n",
       " 'Priscilla',\n",
       " 'The Killer',\n",
       " 'Maestro',\n",
       " 'NYAD',\n",
       " 'Hoard',\n",
       " 'Poor Things',\n",
       " 'The Royal Hotel',\n",
       " 'The Wonderful Story of Henry Sugar',\n",
       " 'All of Us Strangers',\n",
       " 'Saltburn',\n",
       " 'The Holdovers',\n",
       " 'Ferrari',\n",
       " 'The Bikeriders',\n",
       " 'El Conde',\n",
       " 'Doctor Jekyll',\n",
       " 'Retribution',\n",
       " 'Gran Turismo',\n",
       " 'Teenage Mutant Ninja Turtles: Mutant Mayhem',\n",
       " 'The Boy and the Heron',\n",
       " 'Oppenheimer',\n",
       " 'Barbie',\n",
       " 'Insidious: The Red Door',\n",
       " 'Paradise',\n",
       " 'Mission: Impossible – Dead Reckoning Part One',\n",
       " 'Black Mirror: Demon 79',\n",
       " 'Black Mirror: Mazey Day',\n",
       " 'Black Mirror: Beyond the Sea',\n",
       " 'Black Mirror: Loch Henry',\n",
       " 'Black Mirror: Joan Is Awful',\n",
       " 'They Cloned Tyrone',\n",
       " 'The Flash',\n",
       " 'Meg 2: The Trench',\n",
       " 'Spider-Man: Across the Spider-Verse',\n",
       " 'La Chimera',\n",
       " 'In Our Day',\n",
       " 'Cobweb',\n",
       " 'The Taste of Things',\n",
       " 'Asteroid City',\n",
       " 'Kidnapped',\n",
       " 'Kubi',\n",
       " 'Fallen Leaves',\n",
       " 'The Boogeyman',\n",
       " 'Club Zero',\n",
       " 'Anatomy of a Fall',\n",
       " 'Killers of the Flower Moon',\n",
       " 'May December',\n",
       " 'The Zone of Interest',\n",
       " 'How to Have Sex']"
      ]
     },
     "execution_count": 39,
     "metadata": {},
     "output_type": "execute_result"
    }
   ],
   "source": [
    "get_watched('jay')"
   ]
  },
  {
   "cell_type": "code",
   "execution_count": null,
   "id": "e34b47a2-49c9-49b1-ac26-c70dfb522ad0",
   "metadata": {},
   "outputs": [],
   "source": []
  }
 ],
 "metadata": {
  "kernelspec": {
   "display_name": "Python 3 (ipykernel)",
   "language": "python",
   "name": "python3"
  },
  "language_info": {
   "codemirror_mode": {
    "name": "ipython",
    "version": 3
   },
   "file_extension": ".py",
   "mimetype": "text/x-python",
   "name": "python",
   "nbconvert_exporter": "python",
   "pygments_lexer": "ipython3",
   "version": "3.12.2"
  }
 },
 "nbformat": 4,
 "nbformat_minor": 5
}
