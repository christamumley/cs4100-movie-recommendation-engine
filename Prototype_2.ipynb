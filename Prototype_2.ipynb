{
 "cells": [
  {
   "cell_type": "markdown",
   "id": "a3e6c0f3-0074-4512-ad29-ec29d43e3712",
   "metadata": {},
   "source": [
    "## Dataset"
   ]
  },
  {
   "cell_type": "code",
   "execution_count": 1,
   "id": "4f9511c3-a12c-4cdc-81d6-83817b29654d",
   "metadata": {},
   "outputs": [],
   "source": [
    "# https://www.kaggle.com/datasets/andrezaza/clapper-massive-rotten-tomatoes-movies-and-reviews\n",
    "import pandas as pd\n",
    "df_movie_names = pd.read_csv('rotten_tomatoes_movies.csv')"
   ]
  },
  {
   "cell_type": "code",
   "execution_count": 2,
   "id": "330e6029-7936-4ee7-bfea-181acaaa9f95",
   "metadata": {},
   "outputs": [
    {
     "data": {
      "text/html": [
       "<div>\n",
       "<style scoped>\n",
       "    .dataframe tbody tr th:only-of-type {\n",
       "        vertical-align: middle;\n",
       "    }\n",
       "\n",
       "    .dataframe tbody tr th {\n",
       "        vertical-align: top;\n",
       "    }\n",
       "\n",
       "    .dataframe thead th {\n",
       "        text-align: right;\n",
       "    }\n",
       "</style>\n",
       "<table border=\"1\" class=\"dataframe\">\n",
       "  <thead>\n",
       "    <tr style=\"text-align: right;\">\n",
       "      <th></th>\n",
       "      <th>id</th>\n",
       "      <th>title</th>\n",
       "      <th>audienceScore</th>\n",
       "      <th>tomatoMeter</th>\n",
       "      <th>rating</th>\n",
       "      <th>ratingContents</th>\n",
       "      <th>releaseDateTheaters</th>\n",
       "      <th>releaseDateStreaming</th>\n",
       "      <th>runtimeMinutes</th>\n",
       "      <th>genre</th>\n",
       "      <th>originalLanguage</th>\n",
       "      <th>director</th>\n",
       "      <th>writer</th>\n",
       "      <th>boxOffice</th>\n",
       "      <th>distributor</th>\n",
       "      <th>soundMix</th>\n",
       "    </tr>\n",
       "  </thead>\n",
       "  <tbody>\n",
       "    <tr>\n",
       "      <th>0</th>\n",
       "      <td>space-zombie-bingo</td>\n",
       "      <td>Space Zombie Bingo!</td>\n",
       "      <td>50.0</td>\n",
       "      <td>NaN</td>\n",
       "      <td>NaN</td>\n",
       "      <td>NaN</td>\n",
       "      <td>NaN</td>\n",
       "      <td>2018-08-25</td>\n",
       "      <td>75.0</td>\n",
       "      <td>Comedy, Horror, Sci-fi</td>\n",
       "      <td>English</td>\n",
       "      <td>George Ormrod</td>\n",
       "      <td>George Ormrod,John Sabotta</td>\n",
       "      <td>NaN</td>\n",
       "      <td>NaN</td>\n",
       "      <td>NaN</td>\n",
       "    </tr>\n",
       "  </tbody>\n",
       "</table>\n",
       "</div>"
      ],
      "text/plain": [
       "                   id                title  audienceScore  tomatoMeter rating  \\\n",
       "0  space-zombie-bingo  Space Zombie Bingo!           50.0          NaN    NaN   \n",
       "\n",
       "  ratingContents releaseDateTheaters releaseDateStreaming  runtimeMinutes  \\\n",
       "0            NaN                 NaN           2018-08-25            75.0   \n",
       "\n",
       "                    genre originalLanguage       director  \\\n",
       "0  Comedy, Horror, Sci-fi          English  George Ormrod   \n",
       "\n",
       "                       writer boxOffice distributor soundMix  \n",
       "0  George Ormrod,John Sabotta       NaN         NaN      NaN  "
      ]
     },
     "execution_count": 2,
     "metadata": {},
     "output_type": "execute_result"
    }
   ],
   "source": [
    "df_movie_names.head(1)"
   ]
  },
  {
   "cell_type": "code",
   "execution_count": 3,
   "id": "748295f0-63bb-4249-bd94-d5e4937d72e0",
   "metadata": {},
   "outputs": [
    {
     "data": {
      "text/plain": [
       "143258"
      ]
     },
     "execution_count": 3,
     "metadata": {},
     "output_type": "execute_result"
    }
   ],
   "source": [
    "len(df_movie_names)"
   ]
  },
  {
   "cell_type": "code",
   "execution_count": 4,
   "id": "84a734a5-2407-4dcb-8108-bf614ff76cdb",
   "metadata": {},
   "outputs": [],
   "source": [
    "for column in df_movie_names.columns:\n",
    "    if(column != 'id' and column != 'title' and column !='genre'):\n",
    "        del df_movie_names[column]"
   ]
  },
  {
   "cell_type": "code",
   "execution_count": 5,
   "id": "63d361eb-29e9-48e1-8f75-ffe90adcc2f6",
   "metadata": {},
   "outputs": [
    {
     "data": {
      "text/html": [
       "<div>\n",
       "<style scoped>\n",
       "    .dataframe tbody tr th:only-of-type {\n",
       "        vertical-align: middle;\n",
       "    }\n",
       "\n",
       "    .dataframe tbody tr th {\n",
       "        vertical-align: top;\n",
       "    }\n",
       "\n",
       "    .dataframe thead th {\n",
       "        text-align: right;\n",
       "    }\n",
       "</style>\n",
       "<table border=\"1\" class=\"dataframe\">\n",
       "  <thead>\n",
       "    <tr style=\"text-align: right;\">\n",
       "      <th></th>\n",
       "      <th>title</th>\n",
       "      <th>genre</th>\n",
       "    </tr>\n",
       "    <tr>\n",
       "      <th>id</th>\n",
       "      <th></th>\n",
       "      <th></th>\n",
       "    </tr>\n",
       "  </thead>\n",
       "  <tbody>\n",
       "    <tr>\n",
       "      <th>space-zombie-bingo</th>\n",
       "      <td>Space Zombie Bingo!</td>\n",
       "      <td>Comedy, Horror, Sci-fi</td>\n",
       "    </tr>\n",
       "  </tbody>\n",
       "</table>\n",
       "</div>"
      ],
      "text/plain": [
       "                                  title                   genre\n",
       "id                                                             \n",
       "space-zombie-bingo  Space Zombie Bingo!  Comedy, Horror, Sci-fi"
      ]
     },
     "execution_count": 5,
     "metadata": {},
     "output_type": "execute_result"
    }
   ],
   "source": [
    "df_movie_names.set_index('id', inplace=True)\n",
    "df_movie_names.head(1)"
   ]
  },
  {
   "cell_type": "code",
   "execution_count": 6,
   "id": "86558961-50b7-4411-bd53-80ff324fb300",
   "metadata": {},
   "outputs": [
    {
     "data": {
      "text/html": [
       "<div>\n",
       "<style scoped>\n",
       "    .dataframe tbody tr th:only-of-type {\n",
       "        vertical-align: middle;\n",
       "    }\n",
       "\n",
       "    .dataframe tbody tr th {\n",
       "        vertical-align: top;\n",
       "    }\n",
       "\n",
       "    .dataframe thead th {\n",
       "        text-align: right;\n",
       "    }\n",
       "</style>\n",
       "<table border=\"1\" class=\"dataframe\">\n",
       "  <thead>\n",
       "    <tr style=\"text-align: right;\">\n",
       "      <th></th>\n",
       "      <th>id</th>\n",
       "      <th>reviewId</th>\n",
       "      <th>creationDate</th>\n",
       "      <th>criticName</th>\n",
       "      <th>isTopCritic</th>\n",
       "      <th>originalScore</th>\n",
       "      <th>reviewState</th>\n",
       "      <th>publicatioName</th>\n",
       "      <th>reviewText</th>\n",
       "      <th>scoreSentiment</th>\n",
       "      <th>reviewUrl</th>\n",
       "    </tr>\n",
       "  </thead>\n",
       "  <tbody>\n",
       "    <tr>\n",
       "      <th>0</th>\n",
       "      <td>beavers</td>\n",
       "      <td>1145982</td>\n",
       "      <td>2003-05-23</td>\n",
       "      <td>Ivan M. Lincoln</td>\n",
       "      <td>False</td>\n",
       "      <td>3.5/4</td>\n",
       "      <td>fresh</td>\n",
       "      <td>Deseret News (Salt Lake City)</td>\n",
       "      <td>Timed to be just long enough for most youngste...</td>\n",
       "      <td>POSITIVE</td>\n",
       "      <td>http://www.deseretnews.com/article/700003233/B...</td>\n",
       "    </tr>\n",
       "    <tr>\n",
       "      <th>1</th>\n",
       "      <td>blood_mask</td>\n",
       "      <td>1636744</td>\n",
       "      <td>2007-06-02</td>\n",
       "      <td>The Foywonder</td>\n",
       "      <td>False</td>\n",
       "      <td>1/5</td>\n",
       "      <td>rotten</td>\n",
       "      <td>Dread Central</td>\n",
       "      <td>It doesn't matter if a movie costs 300 million...</td>\n",
       "      <td>NEGATIVE</td>\n",
       "      <td>http://www.dreadcentral.com/index.php?name=Rev...</td>\n",
       "    </tr>\n",
       "    <tr>\n",
       "      <th>2</th>\n",
       "      <td>city_hunter_shinjuku_private_eyes</td>\n",
       "      <td>2590987</td>\n",
       "      <td>2019-05-28</td>\n",
       "      <td>Reuben Baron</td>\n",
       "      <td>False</td>\n",
       "      <td>NaN</td>\n",
       "      <td>fresh</td>\n",
       "      <td>CBR</td>\n",
       "      <td>The choreography is so precise and lifelike at...</td>\n",
       "      <td>POSITIVE</td>\n",
       "      <td>https://www.cbr.com/city-hunter-shinjuku-priva...</td>\n",
       "    </tr>\n",
       "    <tr>\n",
       "      <th>3</th>\n",
       "      <td>city_hunter_shinjuku_private_eyes</td>\n",
       "      <td>2558908</td>\n",
       "      <td>2019-02-14</td>\n",
       "      <td>Matt Schley</td>\n",
       "      <td>False</td>\n",
       "      <td>2.5/5</td>\n",
       "      <td>rotten</td>\n",
       "      <td>Japan Times</td>\n",
       "      <td>The film's out-of-touch attempts at humor may ...</td>\n",
       "      <td>NEGATIVE</td>\n",
       "      <td>https://www.japantimes.co.jp/culture/2019/02/0...</td>\n",
       "    </tr>\n",
       "    <tr>\n",
       "      <th>4</th>\n",
       "      <td>dangerous_men_2015</td>\n",
       "      <td>2504681</td>\n",
       "      <td>2018-08-29</td>\n",
       "      <td>Pat Padua</td>\n",
       "      <td>False</td>\n",
       "      <td>NaN</td>\n",
       "      <td>fresh</td>\n",
       "      <td>DCist</td>\n",
       "      <td>Its clumsy determination is endearing and some...</td>\n",
       "      <td>POSITIVE</td>\n",
       "      <td>http://dcist.com/2015/11/out_of_frame_dangerou...</td>\n",
       "    </tr>\n",
       "  </tbody>\n",
       "</table>\n",
       "</div>"
      ],
      "text/plain": [
       "                                  id  reviewId creationDate       criticName  \\\n",
       "0                            beavers   1145982   2003-05-23  Ivan M. Lincoln   \n",
       "1                         blood_mask   1636744   2007-06-02    The Foywonder   \n",
       "2  city_hunter_shinjuku_private_eyes   2590987   2019-05-28     Reuben Baron   \n",
       "3  city_hunter_shinjuku_private_eyes   2558908   2019-02-14      Matt Schley   \n",
       "4                 dangerous_men_2015   2504681   2018-08-29        Pat Padua   \n",
       "\n",
       "   isTopCritic originalScore reviewState                 publicatioName  \\\n",
       "0        False         3.5/4       fresh  Deseret News (Salt Lake City)   \n",
       "1        False           1/5      rotten                  Dread Central   \n",
       "2        False           NaN       fresh                            CBR   \n",
       "3        False         2.5/5      rotten                    Japan Times   \n",
       "4        False           NaN       fresh                          DCist   \n",
       "\n",
       "                                          reviewText scoreSentiment  \\\n",
       "0  Timed to be just long enough for most youngste...       POSITIVE   \n",
       "1  It doesn't matter if a movie costs 300 million...       NEGATIVE   \n",
       "2  The choreography is so precise and lifelike at...       POSITIVE   \n",
       "3  The film's out-of-touch attempts at humor may ...       NEGATIVE   \n",
       "4  Its clumsy determination is endearing and some...       POSITIVE   \n",
       "\n",
       "                                           reviewUrl  \n",
       "0  http://www.deseretnews.com/article/700003233/B...  \n",
       "1  http://www.dreadcentral.com/index.php?name=Rev...  \n",
       "2  https://www.cbr.com/city-hunter-shinjuku-priva...  \n",
       "3  https://www.japantimes.co.jp/culture/2019/02/0...  \n",
       "4  http://dcist.com/2015/11/out_of_frame_dangerou...  "
      ]
     },
     "execution_count": 6,
     "metadata": {},
     "output_type": "execute_result"
    }
   ],
   "source": [
    "df_movie = pd.read_csv('rotten_tomatoes_movie_reviews.csv')\n",
    "df_movie.head(5)"
   ]
  },
  {
   "cell_type": "markdown",
   "id": "20831b21-fb27-4183-983e-f557a826aeaf",
   "metadata": {},
   "source": [
    "Filtering based on positive reviews, because we are attempting to match descriptors of a movie to an input. Negative reviews may associate terms with the movie that are inaccurate; like \"not very fast-paced\" might asscociate \"fast-paced\" with a slow movie. "
   ]
  },
  {
   "cell_type": "code",
   "execution_count": 7,
   "id": "ae0fc71a-ad5f-4d99-815b-37dc416f2bb2",
   "metadata": {},
   "outputs": [
    {
     "data": {
      "text/plain": [
       "0          POSITIVE\n",
       "2          POSITIVE\n",
       "4          POSITIVE\n",
       "5          POSITIVE\n",
       "6          POSITIVE\n",
       "             ...   \n",
       "1444957    POSITIVE\n",
       "1444958    POSITIVE\n",
       "1444959    POSITIVE\n",
       "1444960    POSITIVE\n",
       "1444962    POSITIVE\n",
       "Name: scoreSentiment, Length: 963799, dtype: object"
      ]
     },
     "execution_count": 7,
     "metadata": {},
     "output_type": "execute_result"
    }
   ],
   "source": [
    "bool_positive = df_movie['scoreSentiment'] == 'POSITIVE'\n",
    "df_movie = df_movie[bool_positive]\n",
    "df_movie.scoreSentiment"
   ]
  },
  {
   "cell_type": "code",
   "execution_count": 8,
   "id": "607a8288-9827-455f-b396-e691af324035",
   "metadata": {},
   "outputs": [],
   "source": [
    "for column in df_movie.columns:\n",
    "    if(column != 'id' and column != 'reviewText'):\n",
    "        del df_movie[column]"
   ]
  },
  {
   "cell_type": "code",
   "execution_count": 9,
   "id": "0038d616-766b-4e8c-8224-80a6853e741e",
   "metadata": {},
   "outputs": [],
   "source": [
    "# putting the proper name of the movies \n",
    "dict_movie = df_movie_names.to_dict()['title']\n",
    "dict_genre = df_movie_names.to_dict()['genre']\n",
    "movieids = df_movie.id.tolist()"
   ]
  },
  {
   "cell_type": "code",
   "execution_count": 10,
   "id": "edc0de3f-dfb6-47fd-8cc3-6c1042ae1a1e",
   "metadata": {},
   "outputs": [],
   "source": [
    "def to_title(m):\n",
    "    new = None\n",
    "    try:\n",
    "        new = dict_movie[m]\n",
    "    except:\n",
    "        pass\n",
    "    return new\n",
    "\n",
    "def to_genre(m):\n",
    "    new = None\n",
    "    try:\n",
    "        new = dict_genre[m]\n",
    "    except:\n",
    "        pass\n",
    "    return new\n",
    "\n",
    "df_movie['title'] = pd.Series(list(map(to_title, movieids)))\n",
    "df_movie['genre'] = pd.Series(list(map(to_genre, movieids)))"
   ]
  },
  {
   "cell_type": "code",
   "execution_count": 11,
   "id": "cf9650ad-4b3d-4255-b7f1-6aaed0ac76af",
   "metadata": {},
   "outputs": [
    {
     "data": {
      "text/html": [
       "<div>\n",
       "<style scoped>\n",
       "    .dataframe tbody tr th:only-of-type {\n",
       "        vertical-align: middle;\n",
       "    }\n",
       "\n",
       "    .dataframe tbody tr th {\n",
       "        vertical-align: top;\n",
       "    }\n",
       "\n",
       "    .dataframe thead th {\n",
       "        text-align: right;\n",
       "    }\n",
       "</style>\n",
       "<table border=\"1\" class=\"dataframe\">\n",
       "  <thead>\n",
       "    <tr style=\"text-align: right;\">\n",
       "      <th></th>\n",
       "      <th>id</th>\n",
       "      <th>reviewText</th>\n",
       "      <th>title</th>\n",
       "      <th>genre</th>\n",
       "    </tr>\n",
       "  </thead>\n",
       "  <tbody>\n",
       "    <tr>\n",
       "      <th>0</th>\n",
       "      <td>beavers</td>\n",
       "      <td>Timed to be just long enough for most youngste...</td>\n",
       "      <td>Beavers</td>\n",
       "      <td>Documentary</td>\n",
       "    </tr>\n",
       "    <tr>\n",
       "      <th>2</th>\n",
       "      <td>city_hunter_shinjuku_private_eyes</td>\n",
       "      <td>The choreography is so precise and lifelike at...</td>\n",
       "      <td>Dangerous Men</td>\n",
       "      <td>NaN</td>\n",
       "    </tr>\n",
       "    <tr>\n",
       "      <th>4</th>\n",
       "      <td>dangerous_men_2015</td>\n",
       "      <td>Its clumsy determination is endearing and some...</td>\n",
       "      <td>Dangerous Men</td>\n",
       "      <td>NaN</td>\n",
       "    </tr>\n",
       "    <tr>\n",
       "      <th>5</th>\n",
       "      <td>dangerous_men_2015</td>\n",
       "      <td>With every new minute, there's another head-sc...</td>\n",
       "      <td>Dangerous Men</td>\n",
       "      <td>NaN</td>\n",
       "    </tr>\n",
       "    <tr>\n",
       "      <th>6</th>\n",
       "      <td>dangerous_men_2015</td>\n",
       "      <td>Emotionless reaction shots, zero characterizat...</td>\n",
       "      <td>Dangerous Men</td>\n",
       "      <td>NaN</td>\n",
       "    </tr>\n",
       "  </tbody>\n",
       "</table>\n",
       "</div>"
      ],
      "text/plain": [
       "                                  id  \\\n",
       "0                            beavers   \n",
       "2  city_hunter_shinjuku_private_eyes   \n",
       "4                 dangerous_men_2015   \n",
       "5                 dangerous_men_2015   \n",
       "6                 dangerous_men_2015   \n",
       "\n",
       "                                          reviewText          title  \\\n",
       "0  Timed to be just long enough for most youngste...        Beavers   \n",
       "2  The choreography is so precise and lifelike at...  Dangerous Men   \n",
       "4  Its clumsy determination is endearing and some...  Dangerous Men   \n",
       "5  With every new minute, there's another head-sc...  Dangerous Men   \n",
       "6  Emotionless reaction shots, zero characterizat...  Dangerous Men   \n",
       "\n",
       "         genre  \n",
       "0  Documentary  \n",
       "2          NaN  \n",
       "4          NaN  \n",
       "5          NaN  \n",
       "6          NaN  "
      ]
     },
     "execution_count": 11,
     "metadata": {},
     "output_type": "execute_result"
    }
   ],
   "source": [
    "df_movie.head()"
   ]
  },
  {
   "cell_type": "code",
   "execution_count": 12,
   "id": "a0e09d60-9e3f-4da2-815e-9e81a54868c5",
   "metadata": {},
   "outputs": [],
   "source": [
    "del df_movie['id']"
   ]
  },
  {
   "cell_type": "code",
   "execution_count": 13,
   "id": "78504e30-78a9-4a07-b00a-5529815ca4d9",
   "metadata": {},
   "outputs": [
    {
     "data": {
      "text/html": [
       "<div>\n",
       "<style scoped>\n",
       "    .dataframe tbody tr th:only-of-type {\n",
       "        vertical-align: middle;\n",
       "    }\n",
       "\n",
       "    .dataframe tbody tr th {\n",
       "        vertical-align: top;\n",
       "    }\n",
       "\n",
       "    .dataframe thead th {\n",
       "        text-align: right;\n",
       "    }\n",
       "</style>\n",
       "<table border=\"1\" class=\"dataframe\">\n",
       "  <thead>\n",
       "    <tr style=\"text-align: right;\">\n",
       "      <th></th>\n",
       "      <th>reviewText</th>\n",
       "      <th>title</th>\n",
       "      <th>genre</th>\n",
       "    </tr>\n",
       "  </thead>\n",
       "  <tbody>\n",
       "    <tr>\n",
       "      <th>0</th>\n",
       "      <td>Timed to be just long enough for most youngste...</td>\n",
       "      <td>Beavers</td>\n",
       "      <td>Documentary</td>\n",
       "    </tr>\n",
       "  </tbody>\n",
       "</table>\n",
       "</div>"
      ],
      "text/plain": [
       "                                          reviewText    title        genre\n",
       "0  Timed to be just long enough for most youngste...  Beavers  Documentary"
      ]
     },
     "execution_count": 13,
     "metadata": {},
     "output_type": "execute_result"
    }
   ],
   "source": [
    "df_movie.head(1)"
   ]
  },
  {
   "cell_type": "code",
   "execution_count": 14,
   "id": "8476460e-35c0-427f-9135-eca22cbe1104",
   "metadata": {},
   "outputs": [
    {
     "data": {
      "text/html": [
       "<div>\n",
       "<style scoped>\n",
       "    .dataframe tbody tr th:only-of-type {\n",
       "        vertical-align: middle;\n",
       "    }\n",
       "\n",
       "    .dataframe tbody tr th {\n",
       "        vertical-align: top;\n",
       "    }\n",
       "\n",
       "    .dataframe thead th {\n",
       "        text-align: right;\n",
       "    }\n",
       "</style>\n",
       "<table border=\"1\" class=\"dataframe\">\n",
       "  <thead>\n",
       "    <tr style=\"text-align: right;\">\n",
       "      <th></th>\n",
       "      <th>Title</th>\n",
       "      <th>Year</th>\n",
       "      <th>Summary</th>\n",
       "      <th>Short Summary</th>\n",
       "      <th>Genres</th>\n",
       "      <th>IMDB ID</th>\n",
       "      <th>Runtime</th>\n",
       "      <th>YouTube Trailer</th>\n",
       "      <th>Rating</th>\n",
       "      <th>Movie Poster</th>\n",
       "      <th>Director</th>\n",
       "      <th>Writers</th>\n",
       "      <th>Cast</th>\n",
       "    </tr>\n",
       "  </thead>\n",
       "  <tbody>\n",
       "    <tr>\n",
       "      <th>0</th>\n",
       "      <td>Patton Oswalt: Annihilation</td>\n",
       "      <td>2017</td>\n",
       "      <td>Patton Oswald, despite a personal tragedy, pro...</td>\n",
       "      <td>Patton Oswalt, despite a personal tragedy, pro...</td>\n",
       "      <td>Uncategorized</td>\n",
       "      <td>tt7026230</td>\n",
       "      <td>66</td>\n",
       "      <td>4hZi5QaMBFc</td>\n",
       "      <td>7.4</td>\n",
       "      <td>https://hydramovies.com/wp-content/uploads/201...</td>\n",
       "      <td>Bobcat Goldthwait</td>\n",
       "      <td>Patton Oswalt</td>\n",
       "      <td>Patton Oswalt</td>\n",
       "    </tr>\n",
       "  </tbody>\n",
       "</table>\n",
       "</div>"
      ],
      "text/plain": [
       "                         Title  Year  \\\n",
       "0  Patton Oswalt: Annihilation  2017   \n",
       "\n",
       "                                             Summary  \\\n",
       "0  Patton Oswald, despite a personal tragedy, pro...   \n",
       "\n",
       "                                       Short Summary         Genres  \\\n",
       "0  Patton Oswalt, despite a personal tragedy, pro...  Uncategorized   \n",
       "\n",
       "     IMDB ID  Runtime YouTube Trailer  Rating  \\\n",
       "0  tt7026230       66     4hZi5QaMBFc     7.4   \n",
       "\n",
       "                                        Movie Poster           Director  \\\n",
       "0  https://hydramovies.com/wp-content/uploads/201...  Bobcat Goldthwait   \n",
       "\n",
       "         Writers           Cast  \n",
       "0  Patton Oswalt  Patton Oswalt  "
      ]
     },
     "execution_count": 14,
     "metadata": {},
     "output_type": "execute_result"
    }
   ],
   "source": [
    "# read data \n",
    "file_path = 'Hydra-Movie-Scrape.csv'\n",
    "df_hydra = pd.read_csv(file_path)\n",
    "df_hydra.head(1)"
   ]
  },
  {
   "cell_type": "code",
   "execution_count": 15,
   "id": "fe664489-a636-4e9b-8b19-086d2e8b9dd0",
   "metadata": {},
   "outputs": [
    {
     "data": {
      "text/plain": [
       "3940"
      ]
     },
     "execution_count": 15,
     "metadata": {},
     "output_type": "execute_result"
    }
   ],
   "source": [
    "len(df_hydra)"
   ]
  },
  {
   "cell_type": "code",
   "execution_count": 19,
   "id": "87cb59a1-fc17-4da5-ba56-1e477daa046d",
   "metadata": {},
   "outputs": [],
   "source": [
    "prev_titles = df_movie.title.tolist()\n",
    "bool_in_rt_set = df_hydra['Title'].apply(lambda t: t in prev_titles)\n",
    "df_hydra = df_hydra[bool_in_rt_set]"
   ]
  },
  {
   "cell_type": "code",
   "execution_count": 21,
   "id": "9ca65e66-d86d-413d-9c9f-fd134b0edaa3",
   "metadata": {},
   "outputs": [
    {
     "data": {
      "text/html": [
       "<div>\n",
       "<style scoped>\n",
       "    .dataframe tbody tr th:only-of-type {\n",
       "        vertical-align: middle;\n",
       "    }\n",
       "\n",
       "    .dataframe tbody tr th {\n",
       "        vertical-align: top;\n",
       "    }\n",
       "\n",
       "    .dataframe thead th {\n",
       "        text-align: right;\n",
       "    }\n",
       "</style>\n",
       "<table border=\"1\" class=\"dataframe\">\n",
       "  <thead>\n",
       "    <tr style=\"text-align: right;\">\n",
       "      <th></th>\n",
       "      <th>Title</th>\n",
       "      <th>Short Summary</th>\n",
       "      <th>Genres</th>\n",
       "    </tr>\n",
       "  </thead>\n",
       "  <tbody>\n",
       "  </tbody>\n",
       "</table>\n",
       "</div>"
      ],
      "text/plain": [
       "Empty DataFrame\n",
       "Columns: [Title, Short Summary, Genres]\n",
       "Index: []"
      ]
     },
     "execution_count": 21,
     "metadata": {},
     "output_type": "execute_result"
    }
   ],
   "source": [
    "for column in df_hydra.columns:\n",
    "    if(column != 'Title' and column != 'Genres' and column !='Short Summary'):\n",
    "        del df_hydra[column]"
   ]
  },
  {
   "cell_type": "code",
   "execution_count": 22,
   "id": "2aaa9893-1f14-4bfa-af9f-421a70d4b71e",
   "metadata": {},
   "outputs": [
    {
     "data": {
      "text/html": [
       "<div>\n",
       "<style scoped>\n",
       "    .dataframe tbody tr th:only-of-type {\n",
       "        vertical-align: middle;\n",
       "    }\n",
       "\n",
       "    .dataframe tbody tr th {\n",
       "        vertical-align: top;\n",
       "    }\n",
       "\n",
       "    .dataframe thead th {\n",
       "        text-align: right;\n",
       "    }\n",
       "</style>\n",
       "<table border=\"1\" class=\"dataframe\">\n",
       "  <thead>\n",
       "    <tr style=\"text-align: right;\">\n",
       "      <th></th>\n",
       "      <th>Title</th>\n",
       "      <th>Short Summary</th>\n",
       "      <th>Genres</th>\n",
       "    </tr>\n",
       "  </thead>\n",
       "  <tbody>\n",
       "    <tr>\n",
       "      <th>0</th>\n",
       "      <td>Patton Oswalt: Annihilation</td>\n",
       "      <td>Patton Oswalt, despite a personal tragedy, pro...</td>\n",
       "      <td>Uncategorized</td>\n",
       "    </tr>\n",
       "  </tbody>\n",
       "</table>\n",
       "</div>"
      ],
      "text/plain": [
       "                         Title  \\\n",
       "0  Patton Oswalt: Annihilation   \n",
       "\n",
       "                                       Short Summary         Genres  \n",
       "0  Patton Oswalt, despite a personal tragedy, pro...  Uncategorized  "
      ]
     },
     "execution_count": 22,
     "metadata": {},
     "output_type": "execute_result"
    }
   ],
   "source": [
    "df_hydra.head(1)"
   ]
  },
  {
   "cell_type": "markdown",
   "id": "c10e2d2b-d563-475b-bde6-b72afc31960f",
   "metadata": {},
   "source": [
    "Making a compund dataset"
   ]
  },
  {
   "cell_type": "code",
   "execution_count": 26,
   "id": "66faee5e-a77f-4d07-b30e-e21f5fa359cb",
   "metadata": {},
   "outputs": [],
   "source": [
    "df_movie = df_movie.rename(columns={'reviewText': 'summary'})\n",
    "df_hydra = df_hydra.rename(columns={'Title': 'title', 'Short Summary': 'summary', \"Genres\":'genre'})"
   ]
  },
  {
   "cell_type": "code",
   "execution_count": 30,
   "id": "c43cdd41-444f-4735-8f76-09433f3de3fa",
   "metadata": {},
   "outputs": [],
   "source": [
    "df_movies = pd.concat([df_movie, df_hydra], axis=0)\n",
    "df_movies.dropna(inplace=True)"
   ]
  },
  {
   "cell_type": "code",
   "execution_count": 33,
   "id": "267d2651-bd1b-4b0e-96e4-4e55eb4d1ddb",
   "metadata": {},
   "outputs": [
    {
     "data": {
      "text/plain": [
       "'quick'"
      ]
     },
     "execution_count": 33,
     "metadata": {},
     "output_type": "execute_result"
    }
   ],
   "source": [
    "import re\n",
    "\n",
    "# Sample text\n",
    "text = \"The quick brown fox jumps over the lazy dog.\"\n",
    "\n",
    "# Regular expression pattern\n",
    "pattern = r'\\b\\w{5}\\b'  # Match words with exactly 5 characters\n",
    "\n",
    "# Search for the first match\n",
    "re.search(pattern, text).group()"
   ]
  },
  {
   "cell_type": "code",
   "execution_count": 43,
   "id": "af827a1a-13d0-4a9d-8a56-f6a739beadbf",
   "metadata": {},
   "outputs": [
    {
     "name": "stderr",
     "output_type": "stream",
     "text": [
      "<>:2: SyntaxWarning: invalid escape sequence '\\w'\n",
      "<>:2: SyntaxWarning: invalid escape sequence '\\w'\n",
      "C:\\Users\\mumle\\AppData\\Local\\Temp\\ipykernel_4140\\2056240644.py:2: SyntaxWarning: invalid escape sequence '\\w'\n",
      "  df_movies['genre'] = df_movies['genre'].apply(lambda g: re.search('(\\w*)[|,]*[$]?', g).group(1))\n"
     ]
    }
   ],
   "source": [
    "import re\n",
    "df_movies['genre'] = df_movies['genre'].apply(lambda g: re.search('(\\w*)[|,]*[$]?', g).group(1))"
   ]
  },
  {
   "cell_type": "code",
   "execution_count": 44,
   "id": "10ff01cd-4f96-42a6-8a5e-bcd03206bcf5",
   "metadata": {},
   "outputs": [
    {
     "data": {
      "text/html": [
       "<div>\n",
       "<style scoped>\n",
       "    .dataframe tbody tr th:only-of-type {\n",
       "        vertical-align: middle;\n",
       "    }\n",
       "\n",
       "    .dataframe tbody tr th {\n",
       "        vertical-align: top;\n",
       "    }\n",
       "\n",
       "    .dataframe thead th {\n",
       "        text-align: right;\n",
       "    }\n",
       "</style>\n",
       "<table border=\"1\" class=\"dataframe\">\n",
       "  <thead>\n",
       "    <tr style=\"text-align: right;\">\n",
       "      <th></th>\n",
       "      <th>summary</th>\n",
       "      <th>title</th>\n",
       "      <th>genre</th>\n",
       "    </tr>\n",
       "  </thead>\n",
       "  <tbody>\n",
       "    <tr>\n",
       "      <th>0</th>\n",
       "      <td>Timed to be just long enough for most youngste...</td>\n",
       "      <td>Beavers</td>\n",
       "      <td>Documentary</td>\n",
       "    </tr>\n",
       "    <tr>\n",
       "      <th>12</th>\n",
       "      <td>Ridiculous, artless, and wildly entertaining, ...</td>\n",
       "      <td>Small Town Wisconsin</td>\n",
       "      <td>Comedy</td>\n",
       "    </tr>\n",
       "    <tr>\n",
       "      <th>13</th>\n",
       "      <td>To sit through it feels like honoring the drea...</td>\n",
       "      <td>Small Town Wisconsin</td>\n",
       "      <td>Comedy</td>\n",
       "    </tr>\n",
       "    <tr>\n",
       "      <th>14</th>\n",
       "      <td>Small Town Wisconsin could hit some home truth...</td>\n",
       "      <td>Small Town Wisconsin</td>\n",
       "      <td>Comedy</td>\n",
       "    </tr>\n",
       "    <tr>\n",
       "      <th>15</th>\n",
       "      <td>This low-key drama has lovely interludes and s...</td>\n",
       "      <td>Small Town Wisconsin</td>\n",
       "      <td>Comedy</td>\n",
       "    </tr>\n",
       "    <tr>\n",
       "      <th>...</th>\n",
       "      <td>...</td>\n",
       "      <td>...</td>\n",
       "      <td>...</td>\n",
       "    </tr>\n",
       "    <tr>\n",
       "      <th>3930</th>\n",
       "      <td>The life of a children's book author is turned...</td>\n",
       "      <td>The Child in Time</td>\n",
       "      <td>Drama</td>\n",
       "    </tr>\n",
       "    <tr>\n",
       "      <th>3931</th>\n",
       "      <td>Molly Mahoney is the awkward and insecure mana...</td>\n",
       "      <td>Mr. Magorium's Wonder Emporium</td>\n",
       "      <td>Comedy</td>\n",
       "    </tr>\n",
       "    <tr>\n",
       "      <th>3934</th>\n",
       "      <td>An employee at a weapons factory discovers tha...</td>\n",
       "      <td>Office Uprising</td>\n",
       "      <td>Action</td>\n",
       "    </tr>\n",
       "    <tr>\n",
       "      <th>3935</th>\n",
       "      <td>A security expert must infiltrate a burning sk...</td>\n",
       "      <td>Skyscraper</td>\n",
       "      <td>Action</td>\n",
       "    </tr>\n",
       "    <tr>\n",
       "      <th>3936</th>\n",
       "      <td>In the final days of WWI, an allied army unit ...</td>\n",
       "      <td>Trench 11</td>\n",
       "      <td>Horror</td>\n",
       "    </tr>\n",
       "  </tbody>\n",
       "</table>\n",
       "<p>610074 rows × 3 columns</p>\n",
       "</div>"
      ],
      "text/plain": [
       "                                                summary  \\\n",
       "0     Timed to be just long enough for most youngste...   \n",
       "12    Ridiculous, artless, and wildly entertaining, ...   \n",
       "13    To sit through it feels like honoring the drea...   \n",
       "14    Small Town Wisconsin could hit some home truth...   \n",
       "15    This low-key drama has lovely interludes and s...   \n",
       "...                                                 ...   \n",
       "3930  The life of a children's book author is turned...   \n",
       "3931  Molly Mahoney is the awkward and insecure mana...   \n",
       "3934  An employee at a weapons factory discovers tha...   \n",
       "3935  A security expert must infiltrate a burning sk...   \n",
       "3936  In the final days of WWI, an allied army unit ...   \n",
       "\n",
       "                               title        genre  \n",
       "0                            Beavers  Documentary  \n",
       "12              Small Town Wisconsin       Comedy  \n",
       "13              Small Town Wisconsin       Comedy  \n",
       "14              Small Town Wisconsin       Comedy  \n",
       "15              Small Town Wisconsin       Comedy  \n",
       "...                              ...          ...  \n",
       "3930               The Child in Time        Drama  \n",
       "3931  Mr. Magorium's Wonder Emporium       Comedy  \n",
       "3934                 Office Uprising       Action  \n",
       "3935                      Skyscraper       Action  \n",
       "3936                       Trench 11       Horror  \n",
       "\n",
       "[610074 rows x 3 columns]"
      ]
     },
     "execution_count": 44,
     "metadata": {},
     "output_type": "execute_result"
    }
   ],
   "source": [
    "df_movies"
   ]
  },
  {
   "cell_type": "code",
   "execution_count": 28,
   "id": "b292e4b1-084d-4579-9172-a2b791792a34",
   "metadata": {},
   "outputs": [],
   "source": [
    "# https://spotintelligence.com/2023/01/11/lstm-in-nlp-tasks/"
   ]
  },
  {
   "cell_type": "markdown",
   "id": "29f58998-fb5a-40a4-8c75-12dd8d6ce8e7",
   "metadata": {},
   "source": [
    "## LSTM with the above data"
   ]
  },
  {
   "cell_type": "code",
   "execution_count": 149,
   "id": "adc5a0f0-d6b6-46c7-9188-788c1319f83d",
   "metadata": {},
   "outputs": [
    {
     "name": "stdout",
     "output_type": "stream",
     "text": [
      "Shape of data tensor: (30000, 80)\n",
      "Shape of label tensor: (30000, 13056)\n"
     ]
    }
   ],
   "source": [
    "#sequences of data\n",
    "df_movies = df_movies.sample(n=30000)\n",
    "\n",
    "texts = df_movies['summary'].tolist()\n",
    "tokenizer = Tokenizer(num_words=max_words)\n",
    "tokenizer.fit_on_texts(texts)\n",
    "sequences = tokenizer.texts_to_sequences(texts)\n",
    "X = pad_sequences(sequences, maxlen=80)\n",
    "print('Shape of data tensor:', X.shape)\n",
    "\n",
    "genre = df_movies['genre'].tolist()\n",
    "\n",
    "Y = pd.get_dummies(df_movies['title']).values\n",
    "print('Shape of label tensor:', Y.shape)\n",
    "\n",
    "labels = list(set(df_movies['title'].tolist()))"
   ]
  },
  {
   "cell_type": "code",
   "execution_count": 150,
   "id": "7015b59b-49f8-4018-b9d7-01f84cc96716",
   "metadata": {},
   "outputs": [
    {
     "name": "stdout",
     "output_type": "stream",
     "text": [
      "(27000, 80) (27000, 13056)\n",
      "(3000, 80) (3000, 13056)\n"
     ]
    }
   ],
   "source": [
    "from sklearn.model_selection import train_test_split\n",
    "X_train, X_test, Y_train, Y_test = train_test_split(X,Y, test_size = 0.10, random_state = 42)\n",
    "print(X_train.shape,Y_train.shape)\n",
    "print(X_test.shape,Y_test.shape)"
   ]
  },
  {
   "cell_type": "code",
   "execution_count": 151,
   "id": "58fcf84a-dc47-4891-8df2-204fea43887f",
   "metadata": {},
   "outputs": [
    {
     "name": "stdout",
     "output_type": "stream",
     "text": [
      "Epoch 1/25\n",
      "\u001b[1m380/380\u001b[0m \u001b[32m━━━━━━━━━━━━━━━━━━━━\u001b[0m\u001b[37m\u001b[0m \u001b[1m47s\u001b[0m 116ms/step - accuracy: 7.6597e-04 - loss: 9.4651 - val_accuracy: 7.4074e-04 - val_loss: 9.4850\n",
      "Epoch 2/25\n",
      "\u001b[1m380/380\u001b[0m \u001b[32m━━━━━━━━━━━━━━━━━━━━\u001b[0m\u001b[37m\u001b[0m \u001b[1m40s\u001b[0m 104ms/step - accuracy: 0.0014 - loss: 9.2354 - val_accuracy: 7.4074e-04 - val_loss: 9.7066\n",
      "Epoch 3/25\n",
      "\u001b[1m380/380\u001b[0m \u001b[32m━━━━━━━━━━━━━━━━━━━━\u001b[0m\u001b[37m\u001b[0m \u001b[1m40s\u001b[0m 105ms/step - accuracy: 0.0015 - loss: 8.9894 - val_accuracy: 0.0000e+00 - val_loss: 10.0648\n",
      "Epoch 4/25\n",
      "\u001b[1m380/380\u001b[0m \u001b[32m━━━━━━━━━━━━━━━━━━━━\u001b[0m\u001b[37m\u001b[0m \u001b[1m40s\u001b[0m 106ms/step - accuracy: 0.0013 - loss: 8.6922 - val_accuracy: 3.7037e-04 - val_loss: 10.3714\n",
      "Epoch 5/25\n",
      "\u001b[1m380/380\u001b[0m \u001b[32m━━━━━━━━━━━━━━━━━━━━\u001b[0m\u001b[37m\u001b[0m \u001b[1m39s\u001b[0m 103ms/step - accuracy: 0.0031 - loss: 8.3073 - val_accuracy: 3.7037e-04 - val_loss: 10.7478\n",
      "Epoch 6/25\n",
      "\u001b[1m380/380\u001b[0m \u001b[32m━━━━━━━━━━━━━━━━━━━━\u001b[0m\u001b[37m\u001b[0m \u001b[1m41s\u001b[0m 108ms/step - accuracy: 0.0058 - loss: 7.8707 - val_accuracy: 0.0011 - val_loss: 11.2062\n",
      "Epoch 7/25\n",
      "\u001b[1m380/380\u001b[0m \u001b[32m━━━━━━━━━━━━━━━━━━━━\u001b[0m\u001b[37m\u001b[0m \u001b[1m43s\u001b[0m 113ms/step - accuracy: 0.0108 - loss: 7.4537 - val_accuracy: 3.7037e-04 - val_loss: 11.4495\n",
      "Epoch 8/25\n",
      "\u001b[1m380/380\u001b[0m \u001b[32m━━━━━━━━━━━━━━━━━━━━\u001b[0m\u001b[37m\u001b[0m \u001b[1m43s\u001b[0m 112ms/step - accuracy: 0.0208 - loss: 7.0521 - val_accuracy: 3.7037e-04 - val_loss: 11.7617\n",
      "Epoch 9/25\n",
      "\u001b[1m380/380\u001b[0m \u001b[32m━━━━━━━━━━━━━━━━━━━━\u001b[0m\u001b[37m\u001b[0m \u001b[1m40s\u001b[0m 106ms/step - accuracy: 0.0428 - loss: 6.6909 - val_accuracy: 3.7037e-04 - val_loss: 12.0218\n",
      "Epoch 10/25\n",
      "\u001b[1m380/380\u001b[0m \u001b[32m━━━━━━━━━━━━━━━━━━━━\u001b[0m\u001b[37m\u001b[0m \u001b[1m40s\u001b[0m 105ms/step - accuracy: 0.0667 - loss: 6.3628 - val_accuracy: 7.4074e-04 - val_loss: 12.1799\n",
      "Epoch 11/25\n",
      "\u001b[1m380/380\u001b[0m \u001b[32m━━━━━━━━━━━━━━━━━━━━\u001b[0m\u001b[37m\u001b[0m \u001b[1m40s\u001b[0m 104ms/step - accuracy: 0.1070 - loss: 6.0507 - val_accuracy: 3.7037e-04 - val_loss: 12.3843\n",
      "Epoch 12/25\n",
      "\u001b[1m380/380\u001b[0m \u001b[32m━━━━━━━━━━━━━━━━━━━━\u001b[0m\u001b[37m\u001b[0m \u001b[1m41s\u001b[0m 107ms/step - accuracy: 0.1531 - loss: 5.7604 - val_accuracy: 7.4074e-04 - val_loss: 12.5748\n",
      "Epoch 13/25\n",
      "\u001b[1m380/380\u001b[0m \u001b[32m━━━━━━━━━━━━━━━━━━━━\u001b[0m\u001b[37m\u001b[0m \u001b[1m42s\u001b[0m 109ms/step - accuracy: 0.2003 - loss: 5.4801 - val_accuracy: 3.7037e-04 - val_loss: 12.6920\n",
      "Epoch 14/25\n",
      "\u001b[1m380/380\u001b[0m \u001b[32m━━━━━━━━━━━━━━━━━━━━\u001b[0m\u001b[37m\u001b[0m \u001b[1m43s\u001b[0m 113ms/step - accuracy: 0.2518 - loss: 5.2270 - val_accuracy: 7.4074e-04 - val_loss: 12.8635\n",
      "Epoch 15/25\n",
      "\u001b[1m380/380\u001b[0m \u001b[32m━━━━━━━━━━━━━━━━━━━━\u001b[0m\u001b[37m\u001b[0m \u001b[1m43s\u001b[0m 113ms/step - accuracy: 0.2922 - loss: 4.9853 - val_accuracy: 3.7037e-04 - val_loss: 12.9819\n",
      "Epoch 16/25\n",
      "\u001b[1m380/380\u001b[0m \u001b[32m━━━━━━━━━━━━━━━━━━━━\u001b[0m\u001b[37m\u001b[0m \u001b[1m40s\u001b[0m 105ms/step - accuracy: 0.3437 - loss: 4.7099 - val_accuracy: 7.4074e-04 - val_loss: 13.1152\n",
      "Epoch 17/25\n",
      "\u001b[1m380/380\u001b[0m \u001b[32m━━━━━━━━━━━━━━━━━━━━\u001b[0m\u001b[37m\u001b[0m \u001b[1m40s\u001b[0m 105ms/step - accuracy: 0.3807 - loss: 4.4765 - val_accuracy: 7.4074e-04 - val_loss: 13.2477\n",
      "Epoch 18/25\n",
      "\u001b[1m380/380\u001b[0m \u001b[32m━━━━━━━━━━━━━━━━━━━━\u001b[0m\u001b[37m\u001b[0m \u001b[1m40s\u001b[0m 105ms/step - accuracy: 0.4165 - loss: 4.2812 - val_accuracy: 7.4074e-04 - val_loss: 13.4015\n",
      "Epoch 19/25\n",
      "\u001b[1m380/380\u001b[0m \u001b[32m━━━━━━━━━━━━━━━━━━━━\u001b[0m\u001b[37m\u001b[0m \u001b[1m41s\u001b[0m 107ms/step - accuracy: 0.4518 - loss: 4.0507 - val_accuracy: 7.4074e-04 - val_loss: 13.4876\n",
      "Epoch 20/25\n",
      "\u001b[1m380/380\u001b[0m \u001b[32m━━━━━━━━━━━━━━━━━━━━\u001b[0m\u001b[37m\u001b[0m \u001b[1m42s\u001b[0m 109ms/step - accuracy: 0.4736 - loss: 3.8733 - val_accuracy: 7.4074e-04 - val_loss: 13.6105\n",
      "Epoch 21/25\n",
      "\u001b[1m380/380\u001b[0m \u001b[32m━━━━━━━━━━━━━━━━━━━━\u001b[0m\u001b[37m\u001b[0m \u001b[1m44s\u001b[0m 115ms/step - accuracy: 0.5078 - loss: 3.6586 - val_accuracy: 7.4074e-04 - val_loss: 13.7054\n",
      "Epoch 22/25\n",
      "\u001b[1m380/380\u001b[0m \u001b[32m━━━━━━━━━━━━━━━━━━━━\u001b[0m\u001b[37m\u001b[0m \u001b[1m43s\u001b[0m 113ms/step - accuracy: 0.5340 - loss: 3.4825 - val_accuracy: 7.4074e-04 - val_loss: 13.8687\n",
      "Epoch 23/25\n",
      "\u001b[1m380/380\u001b[0m \u001b[32m━━━━━━━━━━━━━━━━━━━━\u001b[0m\u001b[37m\u001b[0m \u001b[1m40s\u001b[0m 106ms/step - accuracy: 0.5628 - loss: 3.3062 - val_accuracy: 7.4074e-04 - val_loss: 13.9577\n",
      "Epoch 24/25\n",
      "\u001b[1m380/380\u001b[0m \u001b[32m━━━━━━━━━━━━━━━━━━━━\u001b[0m\u001b[37m\u001b[0m \u001b[1m40s\u001b[0m 106ms/step - accuracy: 0.5728 - loss: 3.1496 - val_accuracy: 7.4074e-04 - val_loss: 14.0782\n",
      "Epoch 25/25\n",
      "\u001b[1m380/380\u001b[0m \u001b[32m━━━━━━━━━━━━━━━━━━━━\u001b[0m\u001b[37m\u001b[0m \u001b[1m41s\u001b[0m 107ms/step - accuracy: 0.6021 - loss: 2.9669 - val_accuracy: 7.4074e-04 - val_loss: 14.1732\n"
     ]
    }
   ],
   "source": [
    "from keras.layers import LSTM, Dense, Embedding, SpatialDropout1D\n",
    "MAX_NB_WORDS = 50000\n",
    "MAX_SEQUENCE_LENGTH = 250\n",
    "# This is fixed.\n",
    "EMBEDDING_DIM = 80\n",
    "\n",
    "model = Sequential()\n",
    "model.add(Embedding(MAX_NB_WORDS, EMBEDDING_DIM))\n",
    "model.add(SpatialDropout1D(0.2))\n",
    "model.add(LSTM(100, dropout=0.2, recurrent_dropout=0.2))\n",
    "model.add(Dense(13056, activation='softmax'))\n",
    "model.compile(loss='categorical_crossentropy', optimizer='adam', metrics=['accuracy'])\n",
    "\n",
    "epochs = 25\n",
    "batch_size = 64\n",
    "\n",
    "history = model.fit(X_train, Y_train, epochs=epochs, batch_size=batch_size,validation_split=0.1)"
   ]
  },
  {
   "cell_type": "code",
   "execution_count": 156,
   "id": "80ff545a-2e50-43ee-9641-0931ece76a73",
   "metadata": {},
   "outputs": [
    {
     "name": "stdout",
     "output_type": "stream",
     "text": [
      "\u001b[1m1/1\u001b[0m \u001b[32m━━━━━━━━━━━━━━━━━━━━\u001b[0m\u001b[37m\u001b[0m \u001b[1m0s\u001b[0m 42ms/step\n"
     ]
    },
    {
     "data": {
      "text/plain": [
       "'Blume in Love'"
      ]
     },
     "execution_count": 156,
     "metadata": {},
     "output_type": "execute_result"
    }
   ],
   "source": [
    "def predict_movie(summary):\n",
    "    sequences = tokenizer.texts_to_sequences([summary])\n",
    "    X_new = pad_sequences(sequences, maxlen=80)\n",
    "    predictions = model.predict(X_new) \n",
    "    return labels[np.argmax(predictions[0])]\n",
    "    \n",
    "predict_movie(\"Romantic Film that has enemies to lovers\")"
   ]
  },
  {
   "cell_type": "code",
   "execution_count": null,
   "id": "edc8dfff-a5aa-4ef6-a944-237d79fef4ca",
   "metadata": {},
   "outputs": [],
   "source": []
  }
 ],
 "metadata": {
  "kernelspec": {
   "display_name": "Python 3 (ipykernel)",
   "language": "python",
   "name": "python3"
  },
  "language_info": {
   "codemirror_mode": {
    "name": "ipython",
    "version": 3
   },
   "file_extension": ".py",
   "mimetype": "text/x-python",
   "name": "python",
   "nbconvert_exporter": "python",
   "pygments_lexer": "ipython3",
   "version": "3.12.2"
  }
 },
 "nbformat": 4,
 "nbformat_minor": 5
}
