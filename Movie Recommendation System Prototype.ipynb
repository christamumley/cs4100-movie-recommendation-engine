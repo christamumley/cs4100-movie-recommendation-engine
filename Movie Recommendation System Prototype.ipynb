{
 "cells": [
  {
   "cell_type": "code",
   "execution_count": 2,
   "id": "5fdf2bde",
   "metadata": {},
   "outputs": [],
   "source": [
    "# import libraries\n",
    "import pandas as pd\n",
    "import numpy as np\n",
    "from sklearn.feature_extraction.text import TfidfVectorizer\n",
    "import nltk\n",
    "import spacy\n",
    "import matplotlib.pyplot as plt\n",
    "import seaborn as sns"
   ]
  },
  {
   "cell_type": "code",
   "execution_count": 3,
   "id": "45a54151",
   "metadata": {},
   "outputs": [
    {
     "name": "stdout",
     "output_type": "stream",
     "text": [
      "                                                Title  Year  \\\n",
      "0                         Patton Oswalt: Annihilation  2017   \n",
      "1                                       New York Doll  2005   \n",
      "2   Mickey's Magical Christmas: Snowed in at the H...  2001   \n",
      "3                          Mickey's House of Villains  2001   \n",
      "4                                       And Then I Go  2017   \n",
      "5                            An Extremely Goofy Movie  2000   \n",
      "6                                        Peter Rabbit  2018   \n",
      "7                                          Love Songs  2007   \n",
      "8                                                  89  2017   \n",
      "9                                      The Foster Boy  2011   \n",
      "10                                    Forever My Girl  2018   \n",
      "11                            Tom Segura: Disgraceful  2018   \n",
      "12      The Secret Rules of Modern Living: Algorithms  2015   \n",
      "13                                Secrets in the Fall  2015   \n",
      "14                                       Silent Night  2017   \n",
      "\n",
      "                                              Summary  \\\n",
      "0   Patton Oswald, despite a personal tragedy, pro...   \n",
      "1   A recovering alcoholic and recently converted ...   \n",
      "2   After everyone is snowed in at the House of Mo...   \n",
      "3   The villains from the popular animated Disney ...   \n",
      "4   In the cruel world of junior high, Edwin suffe...   \n",
      "5   It's a big time in Max's life. He's college bo...   \n",
      "6   Based on the books by Beatrix Potter: Peter Ra...   \n",
      "7   Julie's boyfriend Ismaël lives with her; rathe...   \n",
      "8   89 tells the incredible story of one of footba...   \n",
      "9   The illegitimate orphan child, 12-year-old Max...   \n",
      "10  After being gone for a decade a country star r...   \n",
      "11  Comedian Tom Segura rants about funny things a...   \n",
      "12  Professor Marcus du Sautoy demystifies the hid...   \n",
      "13  Nothing is impossible for a group of young cam...   \n",
      "14  Adam unexpectedly visits his family house at C...   \n",
      "\n",
      "                                        Short Summary  \\\n",
      "0   Patton Oswalt, despite a personal tragedy, pro...   \n",
      "1   A recovering alcoholic and recently converted ...   \n",
      "2   Mickey and all his friends hold their own Chri...   \n",
      "3   The villains from the popular animated Disney ...   \n",
      "4   In the cruel world of junior high, Edwin suffe...   \n",
      "5   Max goes to college, but to his embarassment h...   \n",
      "6   Feature adaptation of Beatrix Potter's classic...   \n",
      "7   A musical interpretation of three lovers livin...   \n",
      "8   The true story of a sporting miracle, when Ars...   \n",
      "9   A Swiss-German rural peasant family takes Max,...   \n",
      "10  After being gone for a decade a country star r...   \n",
      "11  Comedian Tom Segura rants about funny things a...   \n",
      "12  Professor Marcus du Sautoy demystifies the hid...   \n",
      "13  Nothing is impossible for a group of young cam...   \n",
      "14  Adam unexpectedly visits his family house at C...   \n",
      "\n",
      "                                       Genres    IMDB ID  Runtime  \\\n",
      "0                               Uncategorized  tt7026230       66   \n",
      "1                           Documentary|Music  tt0436629       75   \n",
      "2   Adventure|Animation|Comedy|Family|Fantasy  tt0300195       65   \n",
      "3      Animation|Comedy|Family|Fantasy|Horror  tt0329374        0   \n",
      "4                                       Drama  tt2018111       99   \n",
      "5               Animation|Comedy|Family|Sport  tt0208185       79   \n",
      "6   Adventure|Animation|Comedy|Family|Fantasy  tt5117670       95   \n",
      "7                               Uncategorized  tt0996605       91   \n",
      "8                               Uncategorized  tt7614404       91   \n",
      "9                                       Drama  tt2057931      107   \n",
      "10                        Drama|Music|Romance  tt4103724      108   \n",
      "11                         Comedy|Documentary  tt7379330        0   \n",
      "12                                Documentary  tt5818010       58   \n",
      "13                                     Family  tt2522908        0   \n",
      "14                               Comedy|Drama  tt7133554      100   \n",
      "\n",
      "   YouTube Trailer  Rating                                       Movie Poster  \\\n",
      "0      4hZi5QaMBFc     7.4  https://hydramovies.com/wp-content/uploads/201...   \n",
      "1      jwD04NsnLLg     7.9  https://hydramovies.com/wp-content/uploads/201...   \n",
      "2      uCKwHHftrU4     6.8  https://hydramovies.com/wp-content/uploads/201...   \n",
      "3      JA03ciYt-Ek     6.6  https://hydramovies.com/wp-content/uploads/201...   \n",
      "4      8CdIiD6-iF0     7.6  https://hydramovies.com/wp-content/uploads/201...   \n",
      "5      H8oSvldAGfg     6.4  https://hydramovies.com/wp-content/uploads/201...   \n",
      "6      7Pa_Weidt08     6.6  https://hydramovies.com/wp-content/uploads/201...   \n",
      "7      s54vpKAFmS0     7.2  https://hydramovies.com/wp-content/uploads/201...   \n",
      "8      5hfAExhHTMM     8.1  https://hydramovies.com/wp-content/uploads/201...   \n",
      "9      E9Qv_XVJ-js     7.4  https://hydramovies.com/wp-content/uploads/201...   \n",
      "10     3vqcMr1q5Uc     6.4  https://hydramovies.com/wp-content/uploads/201...   \n",
      "11     kYYINJM3lPA     7.5  https://hydramovies.com/wp-content/uploads/201...   \n",
      "12     hpyxmT6KSvw     7.5  https://hydramovies.com/wp-content/uploads/201...   \n",
      "13     eMVw1pHVMAw     7.3  https://hydramovies.com/wp-content/uploads/201...   \n",
      "14     cA6BUYVkQoE     7.5  https://hydramovies.com/wp-content/uploads/201...   \n",
      "\n",
      "               Director               Writers  \\\n",
      "0     Bobcat Goldthwait         Patton Oswalt   \n",
      "1         Greg Whiteley           Arthur Kane   \n",
      "2            Tony Craig           Thomas Hart   \n",
      "3        Jamie Mitchell           Thomas Hart   \n",
      "4       Vincent Grashaw           Brett Haley   \n",
      "5      Douglas McCarthy  Scott Spencer Gorden   \n",
      "6            Will Gluck            Rob Lieber   \n",
      "7     Christophe Honoré     Christophe Honoré   \n",
      "8          Dave Stewart             Lee Dixon   \n",
      "9        Markus Imboden       Plinio Bachmann   \n",
      "10  Bethany Ashton Wolf   Bethany Ashton Wolf   \n",
      "11            Jay Karas            Tom Segura   \n",
      "12         David Briggs      Marcus du Sautoy   \n",
      "13     Brittany Goodwin      Brittany Goodwin   \n",
      "14     Piotr Domalewski      Piotr Domalewski   \n",
      "\n",
      "                                                Cast  \n",
      "0                                      Patton Oswalt  \n",
      "1                                    Sylvain Sylvain  \n",
      "2                     Carlos Alazraqui|Wayne Allwine  \n",
      "3                         Tony Anselmo|Wayne Allwine  \n",
      "4                           Arman Darbo|Sawyer Barth  \n",
      "5             Bill Farmer|Jason Marsden|Jeff Bennett  \n",
      "6                         Fayssal Bazzi|James Corden  \n",
      "7       Clotilde Hesme|Louis Garrel|Ludivine Sagnier  \n",
      "8                                         Ian Wright  \n",
      "9   Katja Riemann|Maximilian Simonischek|Stefan Kurt  \n",
      "10         Abby Ryder Fortson|Alex Roe|Jessica Rothe  \n",
      "11                                        Tom Segura  \n",
      "12                                               NaN  \n",
      "13           Hollie Shay|Kyle Kupecky|Vincent Seidle  \n",
      "14    Agnieszka Suchora|Dawid Ogrodnik|Tomasz Zietek  \n"
     ]
    }
   ],
   "source": [
    "# read data \n",
    "file_path = '/Users/gaurisarin/cs4100-movie-recommendation-engine/Hydra-Movie-Scrape.csv'\n",
    "movies_data = pd.read_csv(file_path)\n",
    "print(movies_data.head(15))"
   ]
  },
  {
   "cell_type": "code",
   "execution_count": 4,
   "id": "ea9f8b69",
   "metadata": {},
   "outputs": [
    {
     "name": "stdout",
     "output_type": "stream",
     "text": [
      "Title               0\n",
      "Year                0\n",
      "Summary             5\n",
      "Short Summary       1\n",
      "Genres              0\n",
      "IMDB ID             0\n",
      "Runtime             0\n",
      "YouTube Trailer    47\n",
      "Rating              0\n",
      "Movie Poster        0\n",
      "Director            0\n",
      "Writers            18\n",
      "Cast               24\n",
      "dtype: int64\n"
     ]
    }
   ],
   "source": [
    "# preprocessing data\n",
    "missing_values = movies_data.isnull().sum()\n",
    "print(missing_values)\n"
   ]
  },
  {
   "cell_type": "code",
   "execution_count": 5,
   "id": "50484ff9",
   "metadata": {},
   "outputs": [
    {
     "name": "stdout",
     "output_type": "stream",
     "text": [
      "                                               Title  Year  \\\n",
      "0                        Patton Oswalt: Annihilation  2017   \n",
      "1                                      New York Doll  2005   \n",
      "2  Mickey's Magical Christmas: Snowed in at the H...  2001   \n",
      "3                         Mickey's House of Villains  2001   \n",
      "4                                      And Then I Go  2017   \n",
      "\n",
      "                                             Summary  \\\n",
      "0  Patton Oswald, despite a personal tragedy, pro...   \n",
      "1  A recovering alcoholic and recently converted ...   \n",
      "2  After everyone is snowed in at the House of Mo...   \n",
      "3  The villains from the popular animated Disney ...   \n",
      "4  In the cruel world of junior high, Edwin suffe...   \n",
      "\n",
      "                                       Short Summary  \\\n",
      "0  Patton Oswalt, despite a personal tragedy, pro...   \n",
      "1  A recovering alcoholic and recently converted ...   \n",
      "2  Mickey and all his friends hold their own Chri...   \n",
      "3  The villains from the popular animated Disney ...   \n",
      "4  In the cruel world of junior high, Edwin suffe...   \n",
      "\n",
      "                                      Genres    IMDB ID  Runtime  \\\n",
      "0                              Uncategorized  tt7026230       66   \n",
      "1                          Documentary|Music  tt0436629       75   \n",
      "2  Adventure|Animation|Comedy|Family|Fantasy  tt0300195       65   \n",
      "3     Animation|Comedy|Family|Fantasy|Horror  tt0329374        0   \n",
      "4                                      Drama  tt2018111       99   \n",
      "\n",
      "  YouTube Trailer  Rating                                       Movie Poster  \\\n",
      "0     4hZi5QaMBFc     7.4  https://hydramovies.com/wp-content/uploads/201...   \n",
      "1     jwD04NsnLLg     7.9  https://hydramovies.com/wp-content/uploads/201...   \n",
      "2     uCKwHHftrU4     6.8  https://hydramovies.com/wp-content/uploads/201...   \n",
      "3     JA03ciYt-Ek     6.6  https://hydramovies.com/wp-content/uploads/201...   \n",
      "4     8CdIiD6-iF0     7.6  https://hydramovies.com/wp-content/uploads/201...   \n",
      "\n",
      "            Director        Writers                            Cast  \n",
      "0  Bobcat Goldthwait  Patton Oswalt                   Patton Oswalt  \n",
      "1      Greg Whiteley    Arthur Kane                 Sylvain Sylvain  \n",
      "2         Tony Craig    Thomas Hart  Carlos Alazraqui|Wayne Allwine  \n",
      "3     Jamie Mitchell    Thomas Hart      Tony Anselmo|Wayne Allwine  \n",
      "4    Vincent Grashaw    Brett Haley        Arman Darbo|Sawyer Barth  \n"
     ]
    }
   ],
   "source": [
    "movies_data_cleaned = movies_data.dropna(subset=['Summary']).copy()\n",
    "print(movies_data_cleaned.head())"
   ]
  },
  {
   "cell_type": "code",
   "execution_count": 6,
   "id": "d7debfcd",
   "metadata": {},
   "outputs": [
    {
     "name": "stdout",
     "output_type": "stream",
     "text": [
      "                                               Title  Year  \\\n",
      "0                        Patton Oswalt: Annihilation  2017   \n",
      "1                                      New York Doll  2005   \n",
      "2  Mickey's Magical Christmas: Snowed in at the H...  2001   \n",
      "3                         Mickey's House of Villains  2001   \n",
      "4                                      And Then I Go  2017   \n",
      "\n",
      "                                             Summary  \\\n",
      "0  Patton Oswald, despite a personal tragedy, pro...   \n",
      "1  A recovering alcoholic and recently converted ...   \n",
      "2  After everyone is snowed in at the House of Mo...   \n",
      "3  The villains from the popular animated Disney ...   \n",
      "4  In the cruel world of junior high, Edwin suffe...   \n",
      "\n",
      "                                      Genres  Runtime YouTube Trailer  Rating  \\\n",
      "0                              Uncategorized       66     4hZi5QaMBFc     7.4   \n",
      "1                          Documentary|Music       75     jwD04NsnLLg     7.9   \n",
      "2  Adventure|Animation|Comedy|Family|Fantasy       65     uCKwHHftrU4     6.8   \n",
      "3     Animation|Comedy|Family|Fantasy|Horror        0     JA03ciYt-Ek     6.6   \n",
      "4                                      Drama       99     8CdIiD6-iF0     7.6   \n",
      "\n",
      "            Director        Writers                            Cast  \n",
      "0  Bobcat Goldthwait  Patton Oswalt                   Patton Oswalt  \n",
      "1      Greg Whiteley    Arthur Kane                 Sylvain Sylvain  \n",
      "2         Tony Craig    Thomas Hart  Carlos Alazraqui|Wayne Allwine  \n",
      "3     Jamie Mitchell    Thomas Hart      Tony Anselmo|Wayne Allwine  \n",
      "4    Vincent Grashaw    Brett Haley        Arman Darbo|Sawyer Barth  \n"
     ]
    }
   ],
   "source": [
    "movies_data_cleaned.drop(columns=['Movie Poster', 'IMDB ID', 'Short Summary'], inplace=True)\n",
    "print(movies_data_cleaned.head())"
   ]
  },
  {
   "cell_type": "code",
   "execution_count": 7,
   "id": "43f7e683",
   "metadata": {},
   "outputs": [],
   "source": [
    "def remove_short_words(text):\n",
    "    return ' '.join([word for word in text.split() if len(word) >= 3])"
   ]
  },
  {
   "cell_type": "code",
   "execution_count": 8,
   "id": "f717c9aa",
   "metadata": {},
   "outputs": [
    {
     "name": "stdout",
     "output_type": "stream",
     "text": [
      "0    patton oswald despite personal tragedy produce...\n",
      "1    recovering alcoholic and recently converted mo...\n",
      "2    after everyone snowed the house mouse mickey s...\n",
      "3    the villains from the popular animated disney ...\n",
      "4    the cruel world junior high edwin suffers stat...\n",
      "Name: Summary, dtype: object\n"
     ]
    }
   ],
   "source": [
    "movies_data_cleaned['Summary'] = movies_data_cleaned['Summary'].str.replace('[^\\w\\s]', '', regex=True)\n",
    "movies_data_cleaned['Summary'] = movies_data_cleaned['Summary'].str.lower()\n",
    "movies_data_cleaned['Summary'] = movies_data_cleaned['Summary'].apply(remove_short_words)\n",
    "print(movies_data_cleaned['Summary'].head())"
   ]
  },
  {
   "cell_type": "code",
   "execution_count": 9,
   "id": "6e9f2eb5",
   "metadata": {},
   "outputs": [
    {
     "name": "stdout",
     "output_type": "stream",
     "text": [
      "                                               Title  Year  \\\n",
      "0                        Patton Oswalt: Annihilation  2017   \n",
      "1                                      New York Doll  2005   \n",
      "2  Mickey's Magical Christmas: Snowed in at the H...  2001   \n",
      "3                         Mickey's House of Villains  2001   \n",
      "4                                      And Then I Go  2017   \n",
      "\n",
      "                                             Summary  Runtime YouTube Trailer  \\\n",
      "0  patton oswald despite personal tragedy produce...       66     4hZi5QaMBFc   \n",
      "1  recovering alcoholic and recently converted mo...       75     jwD04NsnLLg   \n",
      "2  after everyone snowed the house mouse mickey s...       65     uCKwHHftrU4   \n",
      "3  the villains from the popular animated disney ...        0     JA03ciYt-Ek   \n",
      "4  the cruel world junior high edwin suffers stat...       99     8CdIiD6-iF0   \n",
      "\n",
      "   Rating           Director        Writers                            Cast  \\\n",
      "0     7.4  Bobcat Goldthwait  Patton Oswalt                   Patton Oswalt   \n",
      "1     7.9      Greg Whiteley    Arthur Kane                 Sylvain Sylvain   \n",
      "2     6.8         Tony Craig    Thomas Hart  Carlos Alazraqui|Wayne Allwine   \n",
      "3     6.6     Jamie Mitchell    Thomas Hart      Tony Anselmo|Wayne Allwine   \n",
      "4     7.6    Vincent Grashaw    Brett Haley        Arman Darbo|Sawyer Barth   \n",
      "\n",
      "         Genre_1    Genre_2 Genre_3  Genre_4  Genre_5  \n",
      "0  uncategorized       None    None     None     None  \n",
      "1    documentary      music    None     None     None  \n",
      "2      adventure  animation  comedy   family  fantasy  \n",
      "3      animation     comedy  family  fantasy   horror  \n",
      "4          drama       None    None     None     None  \n"
     ]
    }
   ],
   "source": [
    "# if there are multiple genres then seperating the next genres into a different column \n",
    "genres_split = movies_data_cleaned['Genres'].str.split('|', expand=True)\n",
    "for i in range(genres_split.shape[1]):\n",
    "    movies_data_cleaned[f'Genre_{i+1}'] = genres_split[i]\n",
    "for col in movies_data_cleaned.columns:\n",
    "    if 'Genre_' in col:\n",
    "        movies_data_cleaned[col] = movies_data_cleaned[col].str.lower().str.strip()\n",
    "\n",
    "movies_data_cleaned.drop(columns=['Genres'], inplace=True)\n",
    "\n",
    "print(movies_data_cleaned.head())"
   ]
  },
  {
   "cell_type": "code",
   "execution_count": 10,
   "id": "f5bf4f8d",
   "metadata": {},
   "outputs": [
    {
     "name": "stdout",
     "output_type": "stream",
     "text": [
      "                                               Title  Year  \\\n",
      "0                        Patton Oswalt: Annihilation  2017   \n",
      "1                                      New York Doll  2005   \n",
      "2  Mickey's Magical Christmas: Snowed in at the H...  2001   \n",
      "3                         Mickey's House of Villains  2001   \n",
      "4                                      And Then I Go  2017   \n",
      "\n",
      "                                             Summary  Runtime YouTube Trailer  \\\n",
      "0  patton oswald despite personal tragedy produce...       66     4hZi5QaMBFc   \n",
      "1  recovering alcoholic and recently converted mo...       75     jwD04NsnLLg   \n",
      "2  after everyone snowed the house mouse mickey s...       65     uCKwHHftrU4   \n",
      "3  the villains from the popular animated disney ...        0     JA03ciYt-Ek   \n",
      "4  the cruel world junior high edwin suffers stat...       99     8CdIiD6-iF0   \n",
      "\n",
      "   Rating           Director        Writers        Genre_1    Genre_2 Genre_3  \\\n",
      "0     7.4  Bobcat Goldthwait  Patton Oswalt  uncategorized       None    None   \n",
      "1     7.9      Greg Whiteley    Arthur Kane    documentary      music    None   \n",
      "2     6.8         Tony Craig    Thomas Hart      adventure  animation  comedy   \n",
      "3     6.6     Jamie Mitchell    Thomas Hart      animation     comedy  family   \n",
      "4     7.6    Vincent Grashaw    Brett Haley          drama       None    None   \n",
      "\n",
      "   Genre_4  Genre_5            Cast_1         Cast_2 Cast_3  \n",
      "0     None     None     patton oswalt           None   None  \n",
      "1     None     None   sylvain sylvain           None   None  \n",
      "2   family  fantasy  carlos alazraqui  wayne allwine   None  \n",
      "3  fantasy   horror      tony anselmo  wayne allwine   None  \n",
      "4     None     None       arman darbo   sawyer barth   None  \n"
     ]
    }
   ],
   "source": [
    "# split cast into different \n",
    "cast_split = movies_data_cleaned['Cast'].str.split('|', expand=True)\n",
    "for i in range(cast_split.shape[1]):\n",
    "    movies_data_cleaned[f'Cast_{i+1}'] = cast_split[i]\n",
    "for col in movies_data_cleaned.columns:\n",
    "    if 'Cast_' in col:\n",
    "        movies_data_cleaned[col] = movies_data_cleaned[col].str.lower().str.strip()\n",
    "\n",
    "movies_data_cleaned.drop(columns=['Cast'], inplace=True)\n",
    "\n",
    "print(movies_data_cleaned.head())"
   ]
  },
  {
   "cell_type": "code",
   "execution_count": 11,
   "id": "c40ba07c",
   "metadata": {},
   "outputs": [],
   "source": [
    "from sklearn.feature_extraction.text import TfidfVectorizer"
   ]
  },
  {
   "cell_type": "code",
   "execution_count": 12,
   "id": "72c12a7a",
   "metadata": {},
   "outputs": [],
   "source": [
    "tfidf_vectorizer = TfidfVectorizer(min_df=3, max_features=None, \n",
    "                                   strip_accents='unicode', analyzer='word', token_pattern=r'\\w{1,}',\n",
    "                                   ngram_range=(1, 3), use_idf=True, smooth_idf=True, sublinear_tf=True,\n",
    "                                   stop_words='english')\n",
    "tfidf_matrix = tfidf_vectorizer.fit_transform(movies_data_cleaned['Summary'])"
   ]
  },
  {
   "cell_type": "code",
   "execution_count": 13,
   "id": "dbcbeb68",
   "metadata": {},
   "outputs": [
    {
     "name": "stdout",
     "output_type": "stream",
     "text": [
      "                                             Summary  \\\n",
      "0  patton oswald despite personal tragedy produce...   \n",
      "1  recovering alcoholic and recently converted mo...   \n",
      "2  after everyone snowed the house mouse mickey s...   \n",
      "3  the villains from the popular animated disney ...   \n",
      "4  the cruel world junior high edwin suffers stat...   \n",
      "\n",
      "                                            Keywords  \n",
      "0  [oswald, produces, tribulations, focusing, sta...  \n",
      "1             [band, dolls, converted, mormon, kane]  \n",
      "2        [christmas, disney, mickey, everyone, just]  \n",
      "3         [villains, mickey, mouse, house, gathered]  \n",
      "4  [edwin, anxiety, unflinching, belonging, misun...  \n"
     ]
    }
   ],
   "source": [
    "tfidf_vectorizer = TfidfVectorizer(max_df=0.8, max_features=10000)\n",
    "tfidf_matrix = tfidf_vectorizer.fit_transform(movies_data_cleaned['Summary'])\n",
    "\n",
    "feature_names = tfidf_vectorizer.get_feature_names_out()\n",
    "\n",
    "def get_top_n_keywords(row, top_n=25):\n",
    "    sorted_indices = np.argsort(row.toarray()).flatten()[::-1]\n",
    "    top_n_indices = sorted_indices[:top_n]\n",
    "    top_n_keywords = [feature_names[i] for i in top_n_indices]\n",
    "    return top_n_keywords\n",
    "\n",
    "movies_data_cleaned['Keywords'] = [get_top_n_keywords(row, top_n=5) for row in tfidf_matrix]\n",
    "\n",
    "print(movies_data_cleaned[['Summary', 'Keywords']].head())\n"
   ]
  },
  {
   "cell_type": "code",
   "execution_count": 14,
   "id": "35fad56a",
   "metadata": {},
   "outputs": [],
   "source": [
    "movies_data_cleaned['Keywords_str'] = movies_data_cleaned['Keywords'].apply(lambda x: ' '.join(x))"
   ]
  },
  {
   "cell_type": "code",
   "execution_count": 23,
   "id": "055485f6",
   "metadata": {},
   "outputs": [
    {
     "name": "stdout",
     "output_type": "stream",
     "text": [
      "TF-IDF Matrix Keywords shape: (3935, 8371)\n"
     ]
    }
   ],
   "source": [
    "from sklearn.feature_extraction.text import TfidfVectorizer\n",
    "tfidf_vectorizer_keywords = TfidfVectorizer()\n",
    "tfidf_matrix_keywords = tfidf_vectorizer_keywords.fit_transform(movies_data_cleaned['Keywords_str'])\n",
    "print(\"TF-IDF Matrix Keywords shape:\", tfidf_matrix_keywords.shape)"
   ]
  },
  {
   "cell_type": "code",
   "execution_count": 26,
   "id": "ce98c66e",
   "metadata": {},
   "outputs": [],
   "source": [
    "genre1_dummies = pd.get_dummies(movies_data_cleaned['Genre_1'])"
   ]
  },
  {
   "cell_type": "code",
   "execution_count": 27,
   "id": "d4b82def",
   "metadata": {},
   "outputs": [],
   "source": [
    "genre2_dummies = pd.get_dummies(movies_data_cleaned['Genre_2'])"
   ]
  },
  {
   "cell_type": "code",
   "execution_count": 28,
   "id": "28e4d488",
   "metadata": {},
   "outputs": [],
   "source": [
    "genre3_dummies = pd.get_dummies(movies_data_cleaned['Genre_3'])"
   ]
  },
  {
   "cell_type": "code",
   "execution_count": 29,
   "id": "84586e9a",
   "metadata": {},
   "outputs": [],
   "source": [
    "genre4_dummies = pd.get_dummies(movies_data_cleaned['Genre_4'])"
   ]
  },
  {
   "cell_type": "code",
   "execution_count": 30,
   "id": "15ffddb1",
   "metadata": {},
   "outputs": [],
   "source": [
    "genre5_dummies = pd.get_dummies(movies_data_cleaned['Genre_5'])"
   ]
  },
  {
   "cell_type": "code",
   "execution_count": 31,
   "id": "d041f977",
   "metadata": {},
   "outputs": [
    {
     "name": "stdout",
     "output_type": "stream",
     "text": [
      "Director Dummies shape: (3935, 2399)\n"
     ]
    }
   ],
   "source": [
    "director_dummies = pd.get_dummies(movies_data_cleaned['Director'])\n",
    "print(\"Director Dummies shape:\", director_dummies.shape)"
   ]
  },
  {
   "cell_type": "code",
   "execution_count": 32,
   "id": "e97421d9",
   "metadata": {},
   "outputs": [],
   "source": [
    "writers_dummies = pd.get_dummies(movies_data_cleaned['Writers'])"
   ]
  },
  {
   "cell_type": "code",
   "execution_count": 33,
   "id": "80f4d984",
   "metadata": {},
   "outputs": [],
   "source": [
    "cast1_dummies = pd.get_dummies(movies_data_cleaned['Cast_1'])"
   ]
  },
  {
   "cell_type": "code",
   "execution_count": 34,
   "id": "0c463722",
   "metadata": {},
   "outputs": [],
   "source": [
    "cast2_dummies = pd.get_dummies(movies_data_cleaned['Cast_2'])"
   ]
  },
  {
   "cell_type": "code",
   "execution_count": 35,
   "id": "f28b374a",
   "metadata": {},
   "outputs": [],
   "source": [
    "cast3_dummies = pd.get_dummies(movies_data_cleaned['Cast_3'])"
   ]
  },
  {
   "cell_type": "code",
   "execution_count": null,
   "id": "e3958386",
   "metadata": {},
   "outputs": [],
   "source": []
  },
  {
   "cell_type": "code",
   "execution_count": 20,
   "id": "d907d494",
   "metadata": {},
   "outputs": [],
   "source": [
    "from scipy.sparse import hstack"
   ]
  },
  {
   "cell_type": "code",
   "execution_count": 36,
   "id": "3fd69f9c",
   "metadata": {},
   "outputs": [],
   "source": [
    "combined_features = hstack([tfidf_matrix_keywords, director_dummies,\n",
    "                            writers_dummies,cast1_dummies, cast2_dummies, cast3_dummies, \n",
    "                            genre1_dummies, genre2_dummies, genre3_dummies, genre4_dummies, genre5_dummies])"
   ]
  },
  {
   "cell_type": "code",
   "execution_count": 37,
   "id": "a61a6a0a",
   "metadata": {},
   "outputs": [],
   "source": [
    "from sklearn.metrics.pairwise import cosine_similarity"
   ]
  },
  {
   "cell_type": "code",
   "execution_count": 38,
   "id": "eae729cd",
   "metadata": {},
   "outputs": [],
   "source": [
    "cosine_sim = cosine_similarity(combined_features, combined_features)"
   ]
  },
  {
   "cell_type": "code",
   "execution_count": 39,
   "id": "279ad06f",
   "metadata": {},
   "outputs": [],
   "source": [
    "def recommend_movies(title, cosine_sim=cosine_sim):\n",
    "    idx = movies_data_cleaned.index[movies_data_cleaned['Title'] == title].tolist()[0]\n",
    "    sim_scores = list(enumerate(cosine_sim[idx]))\n",
    "    sim_scores = sorted(sim_scores, key=lambda x: x[1], reverse=True)\n",
    "    sim_scores = sim_scores[1:11]\n",
    "    movie_indices = [i[0] for i in sim_scores]\n",
    "    return movies_data_cleaned['Title'].iloc[movie_indices]"
   ]
  },
  {
   "cell_type": "code",
   "execution_count": 40,
   "id": "a717159c",
   "metadata": {},
   "outputs": [
    {
     "name": "stdout",
     "output_type": "stream",
     "text": [
      "205                  Contemporary Color\n",
      "3466    Eagles of Death Metal: Nos Amis\n",
      "302     Score: A Film Music Documentary\n",
      "340                           Hired Gun\n",
      "359                Whitney: Can I Be Me\n",
      "452     The Death and Resurrection Show\n",
      "132                  Tsukiji Wonderland\n",
      "235      Naledi: A Baby Elephant's Tale\n",
      "530            Titanoboa: Monster Snake\n",
      "3534           Storm Children: Book One\n",
      "Name: Title, dtype: object\n"
     ]
    }
   ],
   "source": [
    "recommendations = recommend_movies('New York Doll')\n",
    "print(recommendations)"
   ]
  },
  {
   "cell_type": "code",
   "execution_count": 42,
   "id": "ba49acfb",
   "metadata": {},
   "outputs": [],
   "source": [
    "tfidf_vectorizer = TfidfVectorizer(stop_words='english')"
   ]
  },
  {
   "cell_type": "code",
   "execution_count": 43,
   "id": "f71bb607",
   "metadata": {},
   "outputs": [],
   "source": [
    "tfidf_matrix_summaries = tfidf_vectorizer.fit_transform(movies_data_cleaned['Summary'])"
   ]
  },
  {
   "cell_type": "code",
   "execution_count": 44,
   "id": "4f5d77c5",
   "metadata": {},
   "outputs": [],
   "source": [
    "def recommend_movies_based_on_input_plot(input_plot, tfidf_vectorizer=tfidf_vectorizer, tfidf_matrix=tfidf_matrix_summaries):\n",
    "    input_vec = tfidf_vectorizer.transform([input_plot])\n",
    "    cosine_sim = cosine_similarity(input_vec, tfidf_matrix)\n",
    "    sim_scores = list(enumerate(cosine_sim[0]))\n",
    "    sim_scores = sorted(sim_scores, key=lambda x: x[1], reverse=True)\n",
    "    sim_scores = sim_scores[1:11]\n",
    "    movie_indices = [i[0] for i in sim_scores]\n",
    "    return movies_data_cleaned['Title'].iloc[movie_indices]\n"
   ]
  },
  {
   "cell_type": "code",
   "execution_count": 45,
   "id": "8c7c6596",
   "metadata": {},
   "outputs": [
    {
     "name": "stdout",
     "output_type": "stream",
     "text": [
      "3003                                         Pan\n",
      "1199           Tinker Bell and the Lost Treasure\n",
      "313                                 Brigsby Bear\n",
      "698                                 Nanny McPhee\n",
      "1476    The Disappearance of Eleanor Rigby: Them\n",
      "1852                   Oz the Great and Powerful\n",
      "1671                             Shrek the Third\n",
      "2085                                       K-PAX\n",
      "291                           Wish for Christmas\n",
      "1478     The Disappearance of Eleanor Rigby: Her\n",
      "Name: Title, dtype: object\n"
     ]
    }
   ],
   "source": [
    "input_plot = \"A story about the adventures in a magical land far away.\"\n",
    "recommended_movies = recommend_movies_based_on_input_plot(input_plot)\n",
    "print(recommended_movies)"
   ]
  },
  {
   "cell_type": "code",
   "execution_count": 46,
   "id": "dabb915e",
   "metadata": {},
   "outputs": [
    {
     "name": "stdout",
     "output_type": "stream",
     "text": [
      "Recommended Movie: The Disappearance of Eleanor Rigby: Them\n"
     ]
    }
   ],
   "source": [
    "def recommend_movie(input_plot, preferred_genre, tfidf_vectorizer=tfidf_vectorizer, tfidf_matrix=tfidf_matrix_summaries, movies_data=movies_data_cleaned):\n",
    "    input_vec = tfidf_vectorizer.transform([input_plot])\n",
    "    genre_columns = ['Genre_1', 'Genre_2', 'Genre_3', 'Genre_4', 'Genre_5'] \n",
    "    filtered_movies = movies_data[genre_columns].apply(lambda x: x.str.contains(preferred_genre, case=False, na=False)).any(axis=1)\n",
    "    filtered_movies_data = movies_data[filtered_movies]\n",
    "    if not filtered_movies_data.empty:\n",
    "        filtered_tfidf_matrix = tfidf_matrix[filtered_movies_data.index]\n",
    "        cosine_sim = cosine_similarity(input_vec, filtered_tfidf_matrix)\n",
    "        best_match_idx = cosine_sim.argmax()\n",
    "        recommended_movie_title = filtered_movies_data.iloc[best_match_idx]['Title']\n",
    "        return recommended_movie_title\n",
    "    else:\n",
    "        return \"No movies found in the preferred genre.\"\n",
    "input_plot = \"A young woman's journey through love and heartbreak.\"\n",
    "preferred_genre = \"Romance\"\n",
    "recommended_movie = recommend_movie(input_plot, preferred_genre)\n",
    "print(f\"Recommended Movie: {recommended_movie}\")\n"
   ]
  },
  {
   "cell_type": "code",
   "execution_count": 51,
   "id": "95cb2b5f",
   "metadata": {},
   "outputs": [
    {
     "name": "stdout",
     "output_type": "stream",
     "text": [
      "Enter a plot summary: heartbreaking love story \n",
      "Enter your preferred genre: Romance\n",
      "Recommended Movie: Equals\n"
     ]
    }
   ],
   "source": [
    "def recommend_movie(tfidf_vectorizer=tfidf_vectorizer, tfidf_matrix=tfidf_matrix_summaries, movies_data=movies_data_cleaned):\n",
    "    input_plot = input(\"Enter a plot summary: \")\n",
    "    input_vec = tfidf_vectorizer.transform([input_plot])\n",
    "    preferred_genre = input(\"Enter your preferred genre: \")\n",
    "    genre_columns = ['Genre_1', 'Genre_2', 'Genre_3', 'Genre_4', 'Genre_5']\n",
    "    filtered_movies = movies_data[genre_columns].apply(lambda x: x.str.contains(preferred_genre, case=False, na=False)).any(axis=1)\n",
    "    filtered_movies_data = movies_data[filtered_movies]\n",
    "    if not filtered_movies_data.empty:\n",
    "        filtered_tfidf_matrix = tfidf_matrix[filtered_movies_data.index]\n",
    "        cosine_sim = cosine_similarity(input_vec, filtered_tfidf_matrix)\n",
    "        best_match_idx = cosine_sim.argmax()\n",
    "        recommended_movie_title = filtered_movies_data.iloc[best_match_idx]['Title']\n",
    "        return recommended_movie_title\n",
    "    else:\n",
    "        return \"No movies found in the preferred genre.\"\n",
    "recommended_movie = recommend_movie()\n",
    "print(f\"Recommended Movie: {recommended_movie}\")\n"
   ]
  },
  {
   "cell_type": "code",
   "execution_count": null,
   "id": "1c7b2214",
   "metadata": {},
   "outputs": [],
   "source": []
  }
 ],
 "metadata": {
  "kernelspec": {
   "display_name": "Python 3 (ipykernel)",
   "language": "python",
   "name": "python3"
  },
  "language_info": {
   "codemirror_mode": {
    "name": "ipython",
    "version": 3
   },
   "file_extension": ".py",
   "mimetype": "text/x-python",
   "name": "python",
   "nbconvert_exporter": "python",
   "pygments_lexer": "ipython3",
   "version": "3.9.4"
  }
 },
 "nbformat": 4,
 "nbformat_minor": 5
}
